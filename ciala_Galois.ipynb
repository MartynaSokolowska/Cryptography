{
 "cells": [
  {
   "cell_type": "markdown",
   "id": "d91341b6",
   "metadata": {},
   "source": [
    "# Arytmetyka w ciałach Galois\n",
    "\n",
    "## Co to jest ciało Galois?\n",
    "\n",
    "**Ciałem Galois** nazywamy ciało $(G,+,\\cdot)$ o skończonej liczbie elementów. Najprostszym przykładem takiego ciała są $\\mathbb{Z}_p$, gdzie $p$ jest liczbą pierwszą. *Rzędem* ciała skończonego nazywamy liczbę jego elementów. Ciała skończone tego samego rzędu są izomorficzne.\n",
    "\n",
    "Kolejnym ważnym przykładem ciała Galois jest pierścień ilorazowy $\\mathbb{Z}_p[X]/W(X)$, gdzie $p$ jest liczbą pierwszą a $W$ jest nierozkładalnym wielomianem monicznym stopnia $n$.\n",
    "\n",
    "## Pierścień $\\mathbb{Z}_n$\n",
    "\n",
    "W ciele $\\mathbb{Z}$ wprowadzamy relację równoważności $\\mod n$ (gdzie $n$ jest ustaloną dodatnią liczbą naturalną):\n",
    "$$a\\equiv_n b\\Leftrightarrow [a]_n=[b]_n$$\n",
    "gdzie $[]_n$ oznacza resztę z dzielenia przez $n$.\n",
    "\n",
    "Arytmetyka $\\mod n$:$$a+b=[a+b]_n$$ $$ab=[ab]_n$$\n",
    "\n",
    "**Pierwiastkiem pierwotnym** $\\mod n$ nazywamy liczbę, której potęgi $\\mod n$ dają wszystkie reszty z dzielenia przez $n$, które są względnie pierwsze z $n$. Pierwiastek pierwotny istnieje tylko dla następujących $n$:\n",
    "- $n=p^k$, gdzie $p$ jest liczbą pierwszą różną od 2\n",
    "- $n=2p^k$, gdzie $p$ - j.w.\n",
    "- $n=2$ lub $n=4$"
   ]
  },
  {
   "cell_type": "markdown",
   "id": "f796ef8e",
   "metadata": {},
   "source": [
    "### Sage math:\n",
    "Konstruujemy pierścień `R=Integers(n)` lub `R=IntegerModRing(n)`, gdzie za `n` podajemy ustaloną liczbę naturalną. Jeżeli chcemy poznać postać liczby `x` w tym pierścieniu, to piszemy `R(x)`. Inną opcją jest funkcja `mod(x,n)`"
   ]
  },
  {
   "cell_type": "code",
   "execution_count": 1,
   "id": "b4db6339",
   "metadata": {},
   "outputs": [
    {
     "ename": "NameError",
     "evalue": "name 'Integers' is not defined",
     "output_type": "error",
     "traceback": [
      "\u001b[1;31m---------------------------------------------------------------------------\u001b[0m",
      "\u001b[1;31mNameError\u001b[0m                                 Traceback (most recent call last)",
      "Input \u001b[1;32mIn [1]\u001b[0m, in \u001b[0;36m<cell line: 1>\u001b[1;34m()\u001b[0m\n\u001b[1;32m----> 1\u001b[0m R\u001b[38;5;241m=\u001b[39m\u001b[43mIntegers\u001b[49m(\u001b[38;5;241m3\u001b[39m)\n\u001b[0;32m      2\u001b[0m x\u001b[38;5;241m=\u001b[39mR(\u001b[38;5;241m4\u001b[39m)\n\u001b[0;32m      3\u001b[0m \u001b[38;5;28mprint\u001b[39m(x)\n",
      "\u001b[1;31mNameError\u001b[0m: name 'Integers' is not defined"
     ]
    }
   ],
   "source": [
    "R=Integers(3)\n",
    "x=R(4)\n",
    "print(x)\n",
    "print(type(x))"
   ]
  },
  {
   "cell_type": "code",
   "execution_count": null,
   "id": "86859c0a",
   "metadata": {},
   "outputs": [],
   "source": [
    "R(2+7)"
   ]
  },
  {
   "cell_type": "code",
   "execution_count": null,
   "id": "84417cfd",
   "metadata": {},
   "outputs": [],
   "source": [
    "R(2*4)"
   ]
  },
  {
   "cell_type": "code",
   "execution_count": null,
   "id": "259e5571",
   "metadata": {},
   "outputs": [],
   "source": [
    "RR=IntegerModRing(5)\n",
    "x=RR(10)\n",
    "print(x)\n",
    "print(type(x))"
   ]
  },
  {
   "cell_type": "code",
   "execution_count": null,
   "id": "7cadde47",
   "metadata": {},
   "outputs": [],
   "source": [
    "x=mod(10,4)\n",
    "print(x)\n",
    "print(type(x))"
   ]
  },
  {
   "cell_type": "markdown",
   "id": "5b8ac8e6",
   "metadata": {},
   "source": [
    "Pierwiastki pierwotne w Sage znajdujemy funkcją `primitive_root(n)`."
   ]
  },
  {
   "cell_type": "code",
   "execution_count": null,
   "id": "5c1b2de3",
   "metadata": {},
   "outputs": [],
   "source": [
    "x=primitive_root(7)\n",
    "print(x)\n",
    "print(type(x))"
   ]
  },
  {
   "cell_type": "code",
   "execution_count": null,
   "id": "ed1f74d5",
   "metadata": {},
   "outputs": [],
   "source": [
    "primitive_root(5)"
   ]
  },
  {
   "cell_type": "markdown",
   "id": "76290854",
   "metadata": {},
   "source": [
    "### python:"
   ]
  },
  {
   "cell_type": "markdown",
   "id": "d1feb566",
   "metadata": {},
   "source": [
    "W pythonie nie poszalejemy - operator `%` zwraca resztę z dzielenia. I to tyle. Funkcje do arytmetyki mod $n$ można znaleźć w module SymPy."
   ]
  },
  {
   "cell_type": "code",
   "execution_count": 31,
   "id": "627d5866",
   "metadata": {},
   "outputs": [
    {
     "name": "stdout",
     "output_type": "stream",
     "text": [
      "1\n",
      "<class 'int'>\n"
     ]
    }
   ],
   "source": [
    "import sympy\n",
    "x=5%2\n",
    "print(x)\n",
    "print(type(x))"
   ]
  },
  {
   "cell_type": "markdown",
   "id": "67bf52cb",
   "metadata": {},
   "source": [
    "## Zadanie 1.\n",
    "Zaimplementować w pythonie funkcję `prim_root(n)` znajdującą pierwiastki pierwotne mod $n$. Jeżeli taki pierwiastek nie istnieje funkcja ma zwrócić 0. Jeżeli takich pierwiastków jest więcej funkcja ma zwrócić najmniejszy z nich."
   ]
  },
  {
   "cell_type": "code",
   "execution_count": 32,
   "id": "42d030cb",
   "metadata": {},
   "outputs": [
    {
     "ename": "IndentationError",
     "evalue": "expected an indented block (4169507468.py, line 2)",
     "output_type": "error",
     "traceback": [
      "\u001b[1;36m  Input \u001b[1;32mIn [32]\u001b[1;36m\u001b[0m\n\u001b[1;33m    \u001b[0m\n\u001b[1;37m    ^\u001b[0m\n\u001b[1;31mIndentationError\u001b[0m\u001b[1;31m:\u001b[0m expected an indented block\n"
     ]
    }
   ],
   "source": [
    "def prim_root(n):\n",
    "    res = 0\n",
    "    if (n == 2): return 1\n",
    "    if n == 4: return 3\n",
    "    wzg_pier = []\n",
    "    for i in range (2,n):\n",
    "        if n%i != 0:\n",
    "            wzg_pier.append(i)\n",
    "    for i in range (2,n):\n",
    "        \n",
    "                \n",
    "            "
   ]
  },
  {
   "cell_type": "code",
   "execution_count": 33,
   "id": "30843298",
   "metadata": {},
   "outputs": [
    {
     "name": "stdout",
     "output_type": "stream",
     "text": [
      "Próbuj dalej\n"
     ]
    },
    {
     "ename": "NameError",
     "evalue": "name 'prim_root' is not defined",
     "output_type": "error",
     "traceback": [
      "\u001b[1;31m---------------------------------------------------------------------------\u001b[0m",
      "\u001b[1;31mNameError\u001b[0m                                 Traceback (most recent call last)",
      "Input \u001b[1;32mIn [33]\u001b[0m, in \u001b[0;36m<cell line: 2>\u001b[1;34m()\u001b[0m\n\u001b[0;32m      1\u001b[0m \u001b[38;5;66;03m#TESTY\u001b[39;00m\n\u001b[0;32m      2\u001b[0m \u001b[38;5;28;01mtry\u001b[39;00m:\n\u001b[1;32m----> 3\u001b[0m     \u001b[38;5;28;01massert\u001b[39;00m \u001b[43mprim_root\u001b[49m(\u001b[38;5;241m7\u001b[39m)\u001b[38;5;241m==\u001b[39m\u001b[38;5;241m3\u001b[39m\n\u001b[0;32m      4\u001b[0m     \u001b[38;5;28;01massert\u001b[39;00m prim_root(\u001b[38;5;241m15\u001b[39m)\u001b[38;5;241m==\u001b[39m\u001b[38;5;241m0\u001b[39m\n\u001b[0;32m      5\u001b[0m     \u001b[38;5;28;01massert\u001b[39;00m prim_root(\u001b[38;5;241m26\u001b[39m)\u001b[38;5;241m==\u001b[39m\u001b[38;5;241m7\u001b[39m\n",
      "\u001b[1;31mNameError\u001b[0m: name 'prim_root' is not defined"
     ]
    }
   ],
   "source": [
    "#TESTY\n",
    "try:\n",
    "    assert prim_root(7)==3\n",
    "    assert prim_root(15)==0\n",
    "    assert prim_root(26)==7\n",
    "except:\n",
    "    print('Próbuj dalej')\n",
    "    raise"
   ]
  },
  {
   "cell_type": "markdown",
   "id": "4ef37075",
   "metadata": {},
   "source": [
    "## Zadanie 2.\n",
    "\n",
    "Zaimplementować w Pythonie klasę `Z7()`, której obiekty to pierścienie reszt z dzielenia przez 7. Przeładować operatory `+`, `-`, `*`, aby na obiektach klasy wykonywały działania mod 7 oraz metodę `__repr__`."
   ]
  },
  {
   "cell_type": "code",
   "execution_count": 37,
   "id": "a7e92b65",
   "metadata": {},
   "outputs": [],
   "source": [
    "class Z7:\n",
    "    def __init__(self,val,num):\n",
    "        self.value = sympy.Mod(val,num)\n",
    "        self.num = num\n",
    "        \n",
    "    def __add__(self,other):\n",
    "        return Z7(self.value + other.value,self.num)\n",
    "    \n",
    "    def __sub__ (self, other):\n",
    "        return Z7(self.value - other.value,self.num)\n",
    "    \n",
    "    def __mul__ (self, other):\n",
    "        return Z7(self.value * other.value,self.num)\n",
    "    \n",
    "    def __repr__ (self):\n",
    "        return str(self.value)\n",
    "    \n",
    "    "
   ]
  },
  {
   "cell_type": "code",
   "execution_count": 44,
   "id": "f9dece7e",
   "metadata": {},
   "outputs": [
    {
     "name": "stdout",
     "output_type": "stream",
     "text": [
      "2 3 0\n"
     ]
    },
    {
     "ename": "TypeError",
     "evalue": "unsupported operand type(s) for +: 'int' and 'Z7'",
     "output_type": "error",
     "traceback": [
      "\u001b[1;31m---------------------------------------------------------------------------\u001b[0m",
      "\u001b[1;31mTypeError\u001b[0m                                 Traceback (most recent call last)",
      "Input \u001b[1;32mIn [44]\u001b[0m, in \u001b[0;36m<cell line: 9>\u001b[1;34m()\u001b[0m\n\u001b[0;32m      7\u001b[0m \u001b[38;5;28mprint\u001b[39m(x,y,z)\n\u001b[0;32m      8\u001b[0m \u001b[38;5;66;03m#2 3 0\u001b[39;00m\n\u001b[1;32m----> 9\u001b[0m \u001b[38;5;28mprint\u001b[39m(x\u001b[38;5;241m+\u001b[39m\u001b[38;5;241m2\u001b[39m, \u001b[38;5;241;43m2\u001b[39;49m\u001b[38;5;241;43m+\u001b[39;49m\u001b[43mx\u001b[49m)\n",
      "\u001b[1;31mTypeError\u001b[0m: unsupported operand type(s) for +: 'int' and 'Z7'"
     ]
    }
   ],
   "source": [
    "#TESTY\n",
    "\n",
    "x=Z7(2,7)\n",
    "y=Z7(10,7)\n",
    "z=Z7(14,7)\n",
    "\n",
    "print(x,y,z)\n",
    "#2 3 0\n",
    "print(x+2, 2+x)\n",
    "#2 6"
   ]
  },
  {
   "cell_type": "markdown",
   "id": "812b4993",
   "metadata": {},
   "source": [
    "### Wymiana klucza typu Diffie-Hellman z wykorzystaniem pierwiastka pierwotnego\n",
    "\n",
    "Alice i Bob uzgadniają klucz publiczny będący liczbą pierwszą $p$ oraz $q$ - pierwiastkiem pierwotnym mod $p$.\n",
    "- sekret Alice: liczba całkowita $n\\in (0,p)$\n",
    "- sekret Boba: liczba całkowita $m\\in (0,p)$\n",
    "- Alice generuje $x=q^n$ i wysyła do Boba\n",
    "- Bob generuje $y=q^m$ i wysyła Alice\n",
    "- Alice oblicza klucz $k=y^n$\n",
    "- Bob oblicza klucz $k=x^m$\n",
    "\n",
    "Użycie pierwiastka pierwotnego gwarantuje, że wielkość klucza $k$ nie przekroczy $p-1$."
   ]
  },
  {
   "cell_type": "markdown",
   "id": "076f56f9",
   "metadata": {},
   "source": [
    "## Zadanie 3.\n",
    "\n",
    "Zaimplementuj w Sage lub pythonie powyższy prosty algorytm wymiany klucza. Przyda się funkcja `random_prime()` (Sage) oraz `randint()`."
   ]
  },
  {
   "cell_type": "code",
   "execution_count": 46,
   "id": "7ec7af0b",
   "metadata": {},
   "outputs": [],
   "source": [
    "import random\n",
    "\n",
    "def Diffie ():\n",
    "    p = 72901\n",
    "    n = random.randint(0,p)\n",
    "    m = random.randint(0,p)\n",
    "    q = prime_root(p)\n",
    "    x = pow (q,n)\n",
    "    y = pow (q,m)\n",
    "    k1 = pow(y,n)\n",
    "    k2 = pow (x,m)\n",
    "    return k1 == k2\n"
   ]
  },
  {
   "cell_type": "markdown",
   "id": "0750ef60",
   "metadata": {},
   "source": [
    "## Pierścienie ilorazowe wielomianów\n",
    "\n",
    "Aby utworzyć pierścień ilorazowy $\\mathbb{Z}_n[X]/W(X)$ w Sage musimy najpierw utworzyć $\\mathbb{Z}_n[X]$, czyli pierścień wielomianów o współczynnikach z $\\mathbb{Z}_n$:\n",
    "\n",
    "`R=PolynomialRing(Integers(n),'X')`\n",
    "\n",
    "Jeżeli w dalszej części kodu mamy zamiar korzystać z wielomianów z tego pierścienia, to dobrze jest rozdzielić nazewnictwo zmiennych niezależnych\n",
    "\n",
    "`X=R.gen()`\n",
    "\n",
    "Teraz każdy wielomian zmiennej `X` będzie przez Sage traktowany jako element pierścienia `R`."
   ]
  },
  {
   "cell_type": "code",
   "execution_count": null,
   "id": "2a8a7cb1",
   "metadata": {},
   "outputs": [],
   "source": [
    "R=PolynomialRing(Integers(5),'X')\n",
    "X=R.gen()\n",
    "\n",
    "X^6-13*X^4+12*X^2-10*X+6"
   ]
  },
  {
   "cell_type": "markdown",
   "id": "f606fdb6",
   "metadata": {},
   "source": [
    "Pierścień ilorazowy tworzymy metodą `R.quotient(W,'x')`, gdzie `W` jest dowolnym wielomianem. Podobnie jak poprzednio dobrze jest od razu zdefiniować `x` jako zmienną niezależną wielomianów z nowego pierścienia."
   ]
  },
  {
   "cell_type": "code",
   "execution_count": null,
   "id": "c276fa4e",
   "metadata": {},
   "outputs": [],
   "source": [
    "Rq=R.quotient(X^4+1,'x')\n",
    "x=Rq.gen()\n",
    "\n",
    "x^6-13*x^4+12*x^2-10*x+6"
   ]
  },
  {
   "cell_type": "code",
   "execution_count": null,
   "id": "04a7edfb",
   "metadata": {},
   "outputs": [],
   "source": [
    "w1=7*x^6+14\n",
    "w2=24*x^4-5*x^2-7*x+13\n",
    "\n",
    "expand(w1*w2)"
   ]
  },
  {
   "cell_type": "markdown",
   "id": "af84fcfa",
   "metadata": {},
   "source": [
    "## Zadanie 4.\n",
    "\n",
    "Zaimplementować w pythonie arytmetykę pierścienia ilorazowego wielomianów utożsamiając wielomian z wektorem współczynników przy poszczególnych potęgach."
   ]
  },
  {
   "cell_type": "code",
   "execution_count": null,
   "id": "61363922",
   "metadata": {},
   "outputs": [],
   "source": []
  }
 ],
 "metadata": {
  "kernelspec": {
   "display_name": "Python 3 (ipykernel)",
   "language": "python",
   "name": "python3"
  },
  "language_info": {
   "codemirror_mode": {
    "name": "ipython",
    "version": 3
   },
   "file_extension": ".py",
   "mimetype": "text/x-python",
   "name": "python",
   "nbconvert_exporter": "python",
   "pygments_lexer": "ipython3",
   "version": "3.9.12"
  }
 },
 "nbformat": 4,
 "nbformat_minor": 5
}
